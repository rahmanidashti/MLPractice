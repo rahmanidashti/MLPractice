{
  "nbformat": 4,
  "nbformat_minor": 0,
  "metadata": {
    "colab": {
      "name": "Binary Classification.ipynb",
      "version": "0.3.2",
      "provenance": [],
      "include_colab_link": true
    },
    "kernelspec": {
      "name": "python3",
      "display_name": "Python 3"
    }
  },
  "cells": [
    {
      "cell_type": "markdown",
      "metadata": {
        "id": "view-in-github",
        "colab_type": "text"
      },
      "source": [
        "<a href=\"https://colab.research.google.com/github/rahmanidashti/MLPractice/blob/master/Binary_Classification.ipynb\" target=\"_parent\"><img src=\"https://colab.research.google.com/assets/colab-badge.svg\" alt=\"Open In Colab\"/></a>"
      ]
    },
    {
      "metadata": {
        "id": "7xZEirYq76PW",
        "colab_type": "code",
        "colab": {}
      },
      "cell_type": "code",
      "source": [
        "from keras.models import Sequential\n",
        "from keras.layers import Dense\n",
        "import numpy\n",
        "# fix random seed for reproducibility\n",
        "seed = 7\n",
        "numpy.random.seed(seed)"
      ],
      "execution_count": 0,
      "outputs": []
    },
    {
      "metadata": {
        "id": "_sDalNDS8DON",
        "colab_type": "code",
        "colab": {}
      },
      "cell_type": "code",
      "source": [
        "# load pima indians dataset\n",
        "dataset = numpy.loadtxt(\"https://raw.githubusercontent.com/rahmanidashti/MLDatasets/master/PimaIndiansDiabetes/pima-indians-diabetes.data.csv\", delimiter=\",\")\n",
        "# there are 9 columns and the last column is output variable (class)\n",
        "# split into input (X) and output (Y) variables\n",
        "X = dataset[:,0:8]\n",
        "Y = dataset[:,8]"
      ],
      "execution_count": 0,
      "outputs": []
    },
    {
      "metadata": {
        "id": "kvmISnFkpzII",
        "colab_type": "code",
        "colab": {}
      },
      "cell_type": "code",
      "source": [
        "# create model\n",
        "model = Sequential()\n",
        "model.add(Dense(12, input_dim=8, activation='relu', kernel_initializer='uniform'))\n",
        "model.add(Dense(8, activation='relu', kernel_initializer='uniform'))\n",
        "model.add(Dense(1, activation='sigmoid', kernel_initializer='uniform'))"
      ],
      "execution_count": 0,
      "outputs": []
    },
    {
      "metadata": {
        "id": "RIf9QO6962zO",
        "colab_type": "code",
        "colab": {
          "base_uri": "https://localhost:8080/",
          "height": 238
        },
        "outputId": "901222c4-9dcf-43ef-d3eb-8325e90ca238"
      },
      "cell_type": "code",
      "source": [
        "model.summary()"
      ],
      "execution_count": 19,
      "outputs": [
        {
          "output_type": "stream",
          "text": [
            "_________________________________________________________________\n",
            "Layer (type)                 Output Shape              Param #   \n",
            "=================================================================\n",
            "dense_5 (Dense)              (None, 12)                108       \n",
            "_________________________________________________________________\n",
            "dense_6 (Dense)              (None, 8)                 104       \n",
            "_________________________________________________________________\n",
            "dense_7 (Dense)              (None, 1)                 9         \n",
            "=================================================================\n",
            "Total params: 221\n",
            "Trainable params: 221\n",
            "Non-trainable params: 0\n",
            "_________________________________________________________________\n"
          ],
          "name": "stdout"
        }
      ]
    },
    {
      "metadata": {
        "id": "Fmq7QB8is_dF",
        "colab_type": "code",
        "colab": {}
      },
      "cell_type": "code",
      "source": [
        "# compile model\n",
        "model.compile(loss='binary_crossentropy', optimizer='adam', metrics=['accuracy'])"
      ],
      "execution_count": 0,
      "outputs": []
    },
    {
      "metadata": {
        "id": "sliBz9iiwsep",
        "colab_type": "code",
        "colab": {
          "base_uri": "https://localhost:8080/",
          "height": 1054
        },
        "outputId": "293838d5-3179-44b1-d354-f13f692b12c2"
      },
      "cell_type": "code",
      "source": [
        "# fit the model\n",
        "model.fit(X, Y, epochs=30, batch_size=10)"
      ],
      "execution_count": 18,
      "outputs": [
        {
          "output_type": "stream",
          "text": [
            "Epoch 1/30\n",
            "768/768 [==============================] - 0s 115us/step - loss: 0.4450 - acc: 0.7878\n",
            "Epoch 2/30\n",
            "768/768 [==============================] - 0s 112us/step - loss: 0.4391 - acc: 0.7917\n",
            "Epoch 3/30\n",
            "768/768 [==============================] - 0s 103us/step - loss: 0.4417 - acc: 0.7826\n",
            "Epoch 4/30\n",
            "768/768 [==============================] - 0s 105us/step - loss: 0.4377 - acc: 0.7917\n",
            "Epoch 5/30\n",
            "768/768 [==============================] - 0s 113us/step - loss: 0.4372 - acc: 0.7839\n",
            "Epoch 6/30\n",
            "768/768 [==============================] - 0s 110us/step - loss: 0.4359 - acc: 0.7878\n",
            "Epoch 7/30\n",
            "768/768 [==============================] - 0s 105us/step - loss: 0.4347 - acc: 0.7891\n",
            "Epoch 8/30\n",
            "768/768 [==============================] - 0s 110us/step - loss: 0.4372 - acc: 0.7773\n",
            "Epoch 9/30\n",
            "768/768 [==============================] - 0s 104us/step - loss: 0.4350 - acc: 0.7917\n",
            "Epoch 10/30\n",
            "768/768 [==============================] - 0s 104us/step - loss: 0.4350 - acc: 0.7891\n",
            "Epoch 11/30\n",
            "768/768 [==============================] - 0s 104us/step - loss: 0.4326 - acc: 0.7852\n",
            "Epoch 12/30\n",
            "768/768 [==============================] - 0s 106us/step - loss: 0.4353 - acc: 0.7969\n",
            "Epoch 13/30\n",
            "768/768 [==============================] - 0s 109us/step - loss: 0.4364 - acc: 0.7852\n",
            "Epoch 14/30\n",
            "768/768 [==============================] - 0s 111us/step - loss: 0.4334 - acc: 0.7839\n",
            "Epoch 15/30\n",
            "768/768 [==============================] - 0s 121us/step - loss: 0.4447 - acc: 0.7812\n",
            "Epoch 16/30\n",
            "768/768 [==============================] - 0s 107us/step - loss: 0.4341 - acc: 0.7865\n",
            "Epoch 17/30\n",
            "768/768 [==============================] - 0s 105us/step - loss: 0.4349 - acc: 0.7839\n",
            "Epoch 18/30\n",
            "768/768 [==============================] - 0s 107us/step - loss: 0.4336 - acc: 0.7852\n",
            "Epoch 19/30\n",
            "768/768 [==============================] - 0s 104us/step - loss: 0.4369 - acc: 0.7839\n",
            "Epoch 20/30\n",
            "768/768 [==============================] - 0s 103us/step - loss: 0.4357 - acc: 0.7865\n",
            "Epoch 21/30\n",
            "768/768 [==============================] - 0s 104us/step - loss: 0.4337 - acc: 0.7904\n",
            "Epoch 22/30\n",
            "768/768 [==============================] - 0s 108us/step - loss: 0.4350 - acc: 0.7826\n",
            "Epoch 23/30\n",
            "768/768 [==============================] - 0s 108us/step - loss: 0.4309 - acc: 0.7865\n",
            "Epoch 24/30\n",
            "768/768 [==============================] - 0s 109us/step - loss: 0.4341 - acc: 0.7852\n",
            "Epoch 25/30\n",
            "768/768 [==============================] - 0s 105us/step - loss: 0.4311 - acc: 0.7865\n",
            "Epoch 26/30\n",
            "768/768 [==============================] - 0s 106us/step - loss: 0.4317 - acc: 0.7878\n",
            "Epoch 27/30\n",
            "768/768 [==============================] - 0s 112us/step - loss: 0.4308 - acc: 0.7852\n",
            "Epoch 28/30\n",
            "768/768 [==============================] - 0s 109us/step - loss: 0.4361 - acc: 0.7891\n",
            "Epoch 29/30\n",
            "768/768 [==============================] - 0s 106us/step - loss: 0.4320 - acc: 0.7943\n",
            "Epoch 30/30\n",
            "768/768 [==============================] - 0s 109us/step - loss: 0.4358 - acc: 0.7865\n"
          ],
          "name": "stdout"
        },
        {
          "output_type": "execute_result",
          "data": {
            "text/plain": [
              "<keras.callbacks.History at 0x7f3a69ee0940>"
            ]
          },
          "metadata": {
            "tags": []
          },
          "execution_count": 18
        }
      ]
    },
    {
      "metadata": {
        "id": "LKstFExwxhRw",
        "colab_type": "code",
        "colab": {
          "base_uri": "https://localhost:8080/",
          "height": 51
        },
        "outputId": "8073d7c5-30f9-4afb-ebc1-921e9b90652f"
      },
      "cell_type": "code",
      "source": [
        "# evaluate the model\n",
        "scores = model.evaluate(X, Y)\n",
        "print(\"%s: %.2f%%\" % (model.metrics_names[1], scores[1]*100))"
      ],
      "execution_count": 22,
      "outputs": [
        {
          "output_type": "stream",
          "text": [
            "768/768 [==============================] - 0s 29us/step\n",
            "acc: 79.69%\n"
          ],
          "name": "stdout"
        }
      ]
    }
  ]
}